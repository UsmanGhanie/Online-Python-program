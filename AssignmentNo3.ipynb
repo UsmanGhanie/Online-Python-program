{
 "cells": [
  {
   "cell_type": "code",
   "execution_count": 16,
   "id": "7cd357ed",
   "metadata": {},
   "outputs": [
    {
     "name": "stdout",
     "output_type": "stream",
     "text": [
      "Twinkle, twinkle, little star\n",
      "\n",
      "\tHow I wonder what you are!\n",
      "\n",
      "\t\tUp above the world so high,\n",
      "\n",
      "\t\tLike a diamond in the sky.\n",
      "\n",
      "Twinkle, twinkle, little star\n",
      "\n",
      "\tHow I wonder what you are!\n",
      "\n"
     ]
    }
   ],
   "source": [
    "# Question No.1 (Print Poem)\n",
    "print(\"Twinkle, twinkle, little star\\n\");\n",
    "print(\"\\tHow I wonder what you are!\\n\");\n",
    "print(\"\\t\\tUp above the world so high,\\n\");\n",
    "print(\"\\t\\tLike a diamond in the sky.\\n\");\n",
    "print(\"Twinkle, twinkle, little star\\n\");\n",
    "print(\"\\tHow I wonder what you are!\\n\");"
   ]
  },
  {
   "cell_type": "code",
   "execution_count": 17,
   "id": "32198bc8",
   "metadata": {},
   "outputs": [
    {
     "name": "stdout",
     "output_type": "stream",
     "text": [
      "-- Python Version -- \n",
      "3.8.8 (default, Apr 13 2021, 15:08:03) [MSC v.1916 64 bit (AMD64)]\n"
     ]
    }
   ],
   "source": [
    "# Question No.2 (Python version)\n",
    "import sys\n",
    "print(\"-- Python Version -- \");\n",
    "print(sys.version);"
   ]
  },
  {
   "cell_type": "code",
   "execution_count": 18,
   "id": "2a1a7c68",
   "metadata": {},
   "outputs": [
    {
     "name": "stdout",
     "output_type": "stream",
     "text": [
      "Today Date is = October 24, 2021\n",
      "\n",
      "Current Time :  23:20:44\n"
     ]
    }
   ],
   "source": [
    "# Question No.3 (Current Date & Time)\n",
    "import datetime as dt\n",
    "currentTime = dt.datetime.now();\n",
    "currentDate = dt.date.today();\n",
    "d = currentDate.strftime(\"%B %d, %Y\");\n",
    "t = currentTime.strftime(\"%H:%M:%S\");\n",
    "print(\"Today Date is =\", d );\n",
    "print(\"\\nCurrent Time : \", t );"
   ]
  },
  {
   "cell_type": "code",
   "execution_count": 19,
   "id": "01a152fb",
   "metadata": {},
   "outputs": [
    {
     "name": "stdout",
     "output_type": "stream",
     "text": [
      "Enter the radius of a circle: 44\n",
      "Area of a circle =  6079.04\n"
     ]
    }
   ],
   "source": [
    "# Question No.4 (Calculate Area of a circle)\n",
    "PI = 3.14;\n",
    "r = float(input(\"Enter the radius of a circle: \"));\n",
    "area = PI * r * r;\n",
    "print(\"Area of a circle = \", area);"
   ]
  },
  {
   "cell_type": "code",
   "execution_count": 20,
   "id": "54c1d867",
   "metadata": {},
   "outputs": [
    {
     "name": "stdout",
     "output_type": "stream",
     "text": [
      "Enter your First Name : usman\n",
      "\n",
      "Enter your Last Name : ghani\n",
      "Your Name in reverse order :  ghani usman\n"
     ]
    }
   ],
   "source": [
    "# Question No.5 (Print user name in reverse order)\n",
    "firstName = input(\"Enter your First Name : \");\n",
    "lastName = input(\"\\nEnter your Last Name : \");\n",
    "name = lastName +\" \"+ firstName;\n",
    "print(\"Your Name in reverse order : \", name);"
   ]
  },
  {
   "cell_type": "code",
   "execution_count": 21,
   "id": "09153977",
   "metadata": {},
   "outputs": [
    {
     "name": "stdout",
     "output_type": "stream",
     "text": [
      "Enter First Number : 32\n",
      "Enter Second Number : 3\n",
      "Your Answer is :  35.0\n"
     ]
    }
   ],
   "source": [
    "# Question No.6 (Sum the two numbers)\n",
    "N1 = float(input(\"Enter First Number : \"));\n",
    "N2 = float(input(\"Enter Second Number : \"));\n",
    "add = N1 + N2;\n",
    "print(\"Your Answer is : \", add);"
   ]
  },
  {
   "cell_type": "code",
   "execution_count": 23,
   "id": "7c5ff81a",
   "metadata": {},
   "outputs": [
    {
     "name": "stdout",
     "output_type": "stream",
     "text": [
      "Enter your Math marks:      78\n",
      "\n",
      "Enter your English marks:   87\n",
      "\n",
      "Enter your Urdu marks:      76\n",
      "\n",
      "Enter your Computer marks:  98\n",
      "\n",
      "Enter your Islamiyat marks: 97\n",
      "Total marks is :  436\n",
      "\n",
      "Your Grade is : A+\n"
     ]
    }
   ],
   "source": [
    "# Question No.7 (Generate marksheet)\n",
    "math = int(input(\"Enter your Math marks:      \"));\n",
    "eng  = int(input(\"\\nEnter your English marks:   \"));\n",
    "urdu = int(input(\"\\nEnter your Urdu marks:      \"));\n",
    "com  = int(input(\"\\nEnter your Computer marks:  \"));\n",
    "isl  = int(input(\"\\nEnter your Islamiyat marks: \"));\n",
    "total = 500;\n",
    "add = math+eng+urdu+com+isl;\n",
    "percent = add/total*100;\n",
    "print(\"Total marks is : \", add);\n",
    "if percent <100 and percent >=80:\n",
    "    print(\"\\nYour Grade is : A+\");\n",
    "elif percent <80 and percent >=70:\n",
    "    print(\"\\nYour Grade is : A\");\n",
    "elif percent <70 and percent >=60:\n",
    "    print(\"\\nYour Grade is : B\");\n",
    "elif percent <60 and percent >=50:\n",
    "    print(\"\\nYour Grade is : C\");\n",
    "elif percent <50 and percent >=40:\n",
    "    print(\"\\nYour Grade is : D\");\n",
    "elif percent <40 and percent >=33:\n",
    "    print(\"\\nYour Grade is : E\");\n",
    "elif percent <0 and percent >100:\n",
    "    print(\"\\nYou Did not enter appropraite marks\");\n",
    "else:\n",
    "    print(\"\\n You are Fail!...Better luck next time\");"
   ]
  },
  {
   "cell_type": "code",
   "execution_count": 5,
   "id": "7b75ccd5",
   "metadata": {},
   "outputs": [
    {
     "name": "stdout",
     "output_type": "stream",
     "text": [
      "Enter a number: 33\n",
      "33  is Odd\n"
     ]
    }
   ],
   "source": [
    "# Question No.8 (check if the input number is odd or even)\n",
    "num = int(input(\"Enter a number: \"))\n",
    "if (num % 2) == 0:\n",
    "   print(num , \" is Even\".format(num));\n",
    "else:\n",
    "   print(num , \" is Odd\".format(num));"
   ]
  },
  {
   "cell_type": "code",
   "execution_count": 6,
   "id": "e8ccac77",
   "metadata": {},
   "outputs": [
    {
     "name": "stdout",
     "output_type": "stream",
     "text": [
      "The length of the list is: 10\n"
     ]
    }
   ],
   "source": [
    "# Question No.9 (Find A Length Of List)\n",
    "listA = [1, 1, 2, 3, 5, 8, 13, 21, 34, 55,];\n",
    "print(\"The length of the list is:\", len(listA));"
   ]
  },
  {
   "cell_type": "code",
   "execution_count": 8,
   "id": "e7d6d0d8",
   "metadata": {},
   "outputs": [
    {
     "name": "stdout",
     "output_type": "stream",
     "text": [
      "Sum of all number is:  143\n"
     ]
    }
   ],
   "source": [
    "# Question No.10 (Sum all numeric values in a list)\n",
    "numbers = [1, 1, 2, 3, 5, 8, 13, 21, 34, 55,];\n",
    "total = 0\n",
    "for number in numbers:\n",
    "     total += number;\n",
    "print(\"Sum of all number is: \", total);"
   ]
  },
  {
   "cell_type": "code",
   "execution_count": 10,
   "id": "3e87d034",
   "metadata": {},
   "outputs": [
    {
     "name": "stdout",
     "output_type": "stream",
     "text": [
      "Largest Number is:  102\n"
     ]
    }
   ],
   "source": [
    "# Question No.11 (Print the largest number in a list)\n",
    "numbers = [1, 1, 2, 3, 5, 8, 102, 21, 34, 55,];\n",
    "print(\"Largest Number is: \", max(numbers));"
   ]
  },
  {
   "cell_type": "code",
   "execution_count": 15,
   "id": "238c3b82",
   "metadata": {},
   "outputs": [
    {
     "name": "stdout",
     "output_type": "stream",
     "text": [
      "Numbers Less than 5 is :  [1, 1, 2, 3]\n"
     ]
    }
   ],
   "source": [
    "# Question No.12 (Print number less than 5 in a list)\n",
    "numList = [1, 1, 2, 3, 5, 8, 13, 21, 34, 55,];\n",
    "newList = [];\n",
    "for item in numList:\n",
    "  if item < 5:\n",
    "    newList.append(item);\n",
    "print(\"Numbers Less than 5 is : \", newList);"
   ]
  }
 ],
 "metadata": {
  "kernelspec": {
   "display_name": "Python 3",
   "language": "python",
   "name": "python3"
  },
  "language_info": {
   "codemirror_mode": {
    "name": "ipython",
    "version": 3
   },
   "file_extension": ".py",
   "mimetype": "text/x-python",
   "name": "python",
   "nbconvert_exporter": "python",
   "pygments_lexer": "ipython3",
   "version": "3.8.8"
  }
 },
 "nbformat": 4,
 "nbformat_minor": 5
}
