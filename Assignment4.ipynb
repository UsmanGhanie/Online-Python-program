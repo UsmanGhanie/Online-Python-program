{
 "cells": [
  {
   "cell_type": "code",
   "execution_count": null,
   "id": "b2d246ec",
   "metadata": {},
   "outputs": [],
   "source": [
    "# Question No.1 (calculator)\n",
    "\n",
    "#  Addition \n",
    "def add(x, y):\n",
    "    return x + y\n",
    "#  Subtraction\n",
    "def subtract(x, y):\n",
    "    return x - y\n",
    "#  Multiplication\n",
    "def multiply(x, y):\n",
    "    return x * y\n",
    "#  Division\n",
    "def divide(x, y):\n",
    "    return x / y\n",
    "# Power\n",
    "def power(x, y):\n",
    "    return x**y\n",
    "print(\"*--Simple Calculator--*\")\n",
    "print(\" 1. Add\\n\",\"2. Subtract\\n\",\"3. Multiply\\n\",\"4. Divide\\n\",\"5. Power\" )\n",
    "inp = int(input(\"Select Operator By No.\"))\n",
    "if inp in (1 , 2 , 3 , 4 , 5):\n",
    "    first_num  = float(input(\"Enter First No. : \"))\n",
    "    second_num = float(input(\"Enter Second No. : \"))\n",
    "    if inp == 1:\n",
    "        print(first_num,\"+\",second_num,\"= \", add(first_num,second_num))\n",
    "    elif inp == 2:\n",
    "        print(first_num,\"-\",second_num,\"= \", subtract(first_num,second_num))\n",
    "    elif inp == 3:\n",
    "        print(first_num,\"x\",second_num,\"= \", multiply(first_num,second_num))\n",
    "    elif inp == 4:\n",
    "        print(first_num,\"/\",second_num,\"= \", divide(first_num,second_num))\n",
    "    elif inp == 6:\n",
    "        print(first_num,\"^\",second_num,\"= \", power(first_num,second_num))\n",
    "    else:\n",
    "        print(\"-- Invalid No. --\")\n",
    "else:\n",
    "    print(\"Invalid Input\")"
   ]
  },
  {
   "cell_type": "code",
   "execution_count": null,
   "id": "0ac3e25f",
   "metadata": {},
   "outputs": [],
   "source": [
    "# Question No.2 (check numeric value)\n",
    "\n",
    "list1 = [\"ali\",2,\"Hassan\",99,\"Apple\",\"Orange\",23]\n",
    "for x in list1:\n",
    "    if type(x) == int:\n",
    "        print(\"Numeric Value : \", x);"
   ]
  },
  {
   "cell_type": "code",
   "execution_count": 11,
   "id": "3a530505",
   "metadata": {},
   "outputs": [
    {
     "name": "stdout",
     "output_type": "stream",
     "text": [
      "2 44 8 "
     ]
    }
   ],
   "source": [
    "# Question No.5 (find duplicate values)\n",
    "\n",
    "a=[11,2,44,8,6,2,3,44,7,8,4]\n",
    "a1=[]\n",
    "for i in a:\n",
    "    if i not in a1:\n",
    "        a1.append(i)\n",
    "    else:\n",
    "        print(i,end=' ')\n",
    "        "
   ]
  },
  {
   "cell_type": "code",
   "execution_count": 40,
   "id": "38cceebc",
   "metadata": {
    "scrolled": true
   },
   "outputs": [
    {
     "name": "stdout",
     "output_type": "stream",
     "text": [
      "Given Key is present\n"
     ]
    }
   ],
   "source": [
    "# Question No.6 (Check key already exist)\n",
    "dict1 = {1: 'abc', 2: 'def', 3: 'ghi', 4: 'jkl', 6: 'mno'}\n",
    "\n",
    "def check_key(x):\n",
    "    if x in dict1:\n",
    "        print('Given Key is present')\n",
    "    else:\n",
    "        print('Given Key is not present')\n",
    "        \n",
    "check_key(4) \n",
    "\n",
    "\n"
   ]
  },
  {
   "cell_type": "code",
   "execution_count": 39,
   "id": "28e0f006",
   "metadata": {},
   "outputs": [
    {
     "ename": "SyntaxError",
     "evalue": "invalid syntax (<ipython-input-39-923f41a6155d>, line 5)",
     "output_type": "error",
     "traceback": [
      "\u001b[1;36m  File \u001b[1;32m\"<ipython-input-39-923f41a6155d>\"\u001b[1;36m, line \u001b[1;32m5\u001b[0m\n\u001b[1;33m    value = input(\"Enter value : \")\u001b[0m\n\u001b[1;37m    ^\u001b[0m\n\u001b[1;31mSyntaxError\u001b[0m\u001b[1;31m:\u001b[0m invalid syntax\n"
     ]
    }
   ],
   "source": [
    "def add(user, key,value):\n",
    "    user[key]=value\n",
    "dictry = {1: 'abc', 2: 'def', 3: 'ghi', 4: 'jkl'}\n",
    "key   = int(input(\"Enter Your key = \")\n",
    "value = input(\"Enter value : \")\n",
    "dicrty.add(key,value)\n",
    "print(dictry)"
   ]
  }
 ],
 "metadata": {
  "kernelspec": {
   "display_name": "Python 3",
   "language": "python",
   "name": "python3"
  },
  "language_info": {
   "codemirror_mode": {
    "name": "ipython",
    "version": 3
   },
   "file_extension": ".py",
   "mimetype": "text/x-python",
   "name": "python",
   "nbconvert_exporter": "python",
   "pygments_lexer": "ipython3",
   "version": "3.8.8"
  }
 },
 "nbformat": 4,
 "nbformat_minor": 5
}
